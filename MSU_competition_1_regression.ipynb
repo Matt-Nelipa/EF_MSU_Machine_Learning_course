{
 "cells": [
  {
   "cell_type": "code",
   "execution_count": 1,
   "id": "7bdcb3d2",
   "metadata": {
    "_cell_guid": "b1076dfc-b9ad-4769-8c92-a6c4dae69d19",
    "_uuid": "8f2839f25d086af736a60e9eeb907d3b93b6e0e5",
    "execution": {
     "iopub.execute_input": "2024-09-29T17:02:28.160407Z",
     "iopub.status.busy": "2024-09-29T17:02:28.159775Z",
     "iopub.status.idle": "2024-09-29T17:02:29.237441Z",
     "shell.execute_reply": "2024-09-29T17:02:29.235708Z"
    },
    "papermill": {
     "duration": 1.094226,
     "end_time": "2024-09-29T17:02:29.241161",
     "exception": false,
     "start_time": "2024-09-29T17:02:28.146935",
     "status": "completed"
    },
    "tags": []
   },
   "outputs": [
    {
     "name": "stdout",
     "output_type": "stream",
     "text": [
      "/kaggle/input/ef-msu-2024-comp-1/train.csv\n",
      "/kaggle/input/ef-msu-2024-comp-1/test.csv\n"
     ]
    }
   ],
   "source": [
    "# This Python 3 environment comes with many helpful analytics libraries installed\n",
    "# It is defined by the kaggle/python Docker image: https://github.com/kaggle/docker-python\n",
    "# For example, here's several helpful packages to load\n",
    "\n",
    "import numpy as np # linear algebra\n",
    "import pandas as pd # data processing, CSV file I/O (e.g. pd.read_csv)\n",
    "\n",
    "# Input data files are available in the read-only \"../input/\" directory\n",
    "# For example, running this (by clicking run or pressing Shift+Enter) will list all files under the input directory\n",
    "\n",
    "import os\n",
    "for dirname, _, filenames in os.walk('/kaggle/input'):\n",
    "    for filename in filenames:\n",
    "        print(os.path.join(dirname, filename))\n",
    "\n",
    "# You can write up to 20GB to the current directory (/kaggle/working/) that gets preserved as output when you create a version using \"Save & Run All\" \n",
    "# You can also write temporary files to /kaggle/temp/, but they won't be saved outside of the current session"
   ]
  },
  {
   "cell_type": "markdown",
   "id": "34855033",
   "metadata": {
    "papermill": {
     "duration": 0.009087,
     "end_time": "2024-09-29T17:02:29.260847",
     "exception": false,
     "start_time": "2024-09-29T17:02:29.251760",
     "status": "completed"
    },
    "tags": []
   },
   "source": [
    "# Preprocessing"
   ]
  },
  {
   "cell_type": "code",
   "execution_count": 2,
   "id": "e99be51e",
   "metadata": {
    "execution": {
     "iopub.execute_input": "2024-09-29T17:02:29.281749Z",
     "iopub.status.busy": "2024-09-29T17:02:29.281089Z",
     "iopub.status.idle": "2024-09-29T17:02:31.305963Z",
     "shell.execute_reply": "2024-09-29T17:02:31.304621Z"
    },
    "papermill": {
     "duration": 2.039521,
     "end_time": "2024-09-29T17:02:31.309572",
     "exception": false,
     "start_time": "2024-09-29T17:02:29.270051",
     "status": "completed"
    },
    "tags": []
   },
   "outputs": [],
   "source": [
    "from sklearn.model_selection import train_test_split\n",
    "from sklearn.pipeline import make_pipeline\n",
    "from sklearn.preprocessing import OneHotEncoder, StandardScaler\n",
    "from sklearn.compose import ColumnTransformer\n",
    "from sklearn.impute import SimpleImputer\n",
    "from sklearn.ensemble import RandomForestRegressor, GradientBoostingRegressor\n",
    "from sklearn.model_selection import RandomizedSearchCV, KFold\n",
    "from sklearn.metrics import make_scorer, mean_squared_log_error\n",
    "from scipy.stats import randint, uniform"
   ]
  },
  {
   "cell_type": "code",
   "execution_count": 3,
   "id": "e7aa153e",
   "metadata": {
    "execution": {
     "iopub.execute_input": "2024-09-29T17:02:31.331144Z",
     "iopub.status.busy": "2024-09-29T17:02:31.330460Z",
     "iopub.status.idle": "2024-09-29T17:02:31.735129Z",
     "shell.execute_reply": "2024-09-29T17:02:31.733702Z"
    },
    "papermill": {
     "duration": 0.418686,
     "end_time": "2024-09-29T17:02:31.738075",
     "exception": false,
     "start_time": "2024-09-29T17:02:31.319389",
     "status": "completed"
    },
    "tags": []
   },
   "outputs": [
    {
     "name": "stdout",
     "output_type": "stream",
     "text": [
      "Index(['age', 'sex', 'bmi', 'children', 'smoker', 'region', 'charges', 'id'], dtype='object')\n"
     ]
    },
    {
     "data": {
      "text/plain": [
       "<Axes: >"
      ]
     },
     "execution_count": 3,
     "metadata": {},
     "output_type": "execute_result"
    },
    {
     "data": {
      "image/png": "[encoded data removed]",
      "text/plain": [
       "<Figure size 640x480 with 1 Axes>"
      ]
     },
     "metadata": {},
     "output_type": "display_data"
    }
   ],
   "source": [
    "train = pd.read_csv('/kaggle/input/ef-msu-2024-comp-1/train.csv')\n",
    "test = pd.read_csv('/kaggle/input/ef-msu-2024-comp-1/test.csv')\n",
    "print(train.columns)\n",
    "train.children.hist()"
   ]
  },
  {
   "cell_type": "code",
   "execution_count": 4,
   "id": "b3d6c331",
   "metadata": {
    "execution": {
     "iopub.execute_input": "2024-09-29T17:02:31.761146Z",
     "iopub.status.busy": "2024-09-29T17:02:31.760676Z",
     "iopub.status.idle": "2024-09-29T17:02:31.774672Z",
     "shell.execute_reply": "2024-09-29T17:02:31.773227Z"
    },
    "papermill": {
     "duration": 0.028989,
     "end_time": "2024-09-29T17:02:31.777617",
     "exception": false,
     "start_time": "2024-09-29T17:02:31.748628",
     "status": "completed"
    },
    "tags": []
   },
   "outputs": [],
   "source": [
    "X = train.drop(['id', 'charges'], axis=1)\n",
    "y = np.log(train['charges'])"
   ]
  },
  {
   "cell_type": "code",
   "execution_count": 5,
   "id": "5fc99da8",
   "metadata": {
    "execution": {
     "iopub.execute_input": "2024-09-29T17:02:31.802177Z",
     "iopub.status.busy": "2024-09-29T17:02:31.801710Z",
     "iopub.status.idle": "2024-09-29T17:02:31.815747Z",
     "shell.execute_reply": "2024-09-29T17:02:31.814492Z"
    },
    "papermill": {
     "duration": 0.028926,
     "end_time": "2024-09-29T17:02:31.818987",
     "exception": false,
     "start_time": "2024-09-29T17:02:31.790061",
     "status": "completed"
    },
    "tags": []
   },
   "outputs": [],
   "source": [
    "X_train, X_test, y_train, y_test = train_test_split(X, y, test_size=0.2, random_state=42, stratify=X['children'])"
   ]
  },
  {
   "cell_type": "code",
   "execution_count": 7,
   "id": "ad23f9b2",
   "metadata": {
    "execution": {
     "iopub.execute_input": "2024-09-29T17:02:31.874231Z",
     "iopub.status.busy": "2024-09-29T17:02:31.873754Z",
     "iopub.status.idle": "2024-09-29T17:02:31.882942Z",
     "shell.execute_reply": "2024-09-29T17:02:31.881526Z"
    },
    "papermill": {
     "duration": 0.024498,
     "end_time": "2024-09-29T17:02:31.885882",
     "exception": false,
     "start_time": "2024-09-29T17:02:31.861384",
     "status": "completed"
    },
    "tags": []
   },
   "outputs": [],
   "source": [
    "cat_columns = X_train.select_dtypes(include=[\"object\"]).columns\n",
    "num_columns = X_train.select_dtypes(include=[\"int64\", \"float64\"]).columns\n",
    "\n",
    "preprocessing = ColumnTransformer([\n",
    "    (\"cat_preprocessing\", OneHotEncoder(), cat_columns),\n",
    "    (\"num_preprocessing\", StandardScaler(), num_columns)\n",
    "])"
   ]
  },
  {
   "cell_type": "code",
   "execution_count": 8,
   "id": "c6c100cd",
   "metadata": {
    "execution": {
     "iopub.execute_input": "2024-09-29T17:02:31.908491Z",
     "iopub.status.busy": "2024-09-29T17:02:31.908037Z",
     "iopub.status.idle": "2024-09-29T17:02:31.914517Z",
     "shell.execute_reply": "2024-09-29T17:02:31.912750Z"
    },
    "papermill": {
     "duration": 0.020932,
     "end_time": "2024-09-29T17:02:31.917233",
     "exception": false,
     "start_time": "2024-09-29T17:02:31.896301",
     "status": "completed"
    },
    "tags": []
   },
   "outputs": [],
   "source": [
    "preprocessed_X_train = pd.DataFrame(preprocessing.fit_transform(X_train),\n",
    "                                    columns=preprocessing.get_feature_names_out())\n",
    "\n",
    "preprocessed_X_train.num_preprocessing__bmi.hist()"
   ]
  },
  {
   "cell_type": "markdown",
   "id": "8ddb49c2",
   "metadata": {
    "papermill": {
     "duration": 0.010258,
     "end_time": "2024-09-29T17:02:31.937940",
     "exception": false,
     "start_time": "2024-09-29T17:02:31.927682",
     "status": "completed"
    },
    "tags": []
   },
   "source": [
    "# Model creating"
   ]
  },
  {
   "cell_type": "markdown",
   "id": "0ba2d2b2",
   "metadata": {
    "papermill": {
     "duration": 0.009964,
     "end_time": "2024-09-29T17:02:31.958670",
     "exception": false,
     "start_time": "2024-09-29T17:02:31.948706",
     "status": "completed"
    },
    "tags": []
   },
   "source": [
    "# Random Forest model"
   ]
  },
  {
   "cell_type": "code",
   "execution_count": 9,
   "id": "6ba21d2f",
   "metadata": {
    "execution": {
     "iopub.execute_input": "2024-09-29T17:02:31.981591Z",
     "iopub.status.busy": "2024-09-29T17:02:31.981035Z",
     "iopub.status.idle": "2024-09-29T17:02:31.987160Z",
     "shell.execute_reply": "2024-09-29T17:02:31.985689Z"
    },
    "papermill": {
     "duration": 0.020851,
     "end_time": "2024-09-29T17:02:31.989930",
     "exception": false,
     "start_time": "2024-09-29T17:02:31.969079",
     "status": "completed"
    },
    "tags": []
   },
   "outputs": [],
   "source": [
    "rf_model = make_pipeline(\n",
    "    preprocessing,\n",
    "    RandomForestRegressor(random_state=42)\n",
    ")\n",
    "\n",
    "rf_model.fit(X_train, y_train)\n",
    "y_pred = rf_model.predict(X_test)\n",
    "rmsle = np.sqrt(mean_squared_log_error(y_test, y_pred))"
   ]
  },
  {
   "cell_type": "markdown",
   "id": "5d00ef9a",
   "metadata": {
    "papermill": {
     "duration": 0.011518,
     "end_time": "2024-09-29T17:02:32.013015",
     "exception": false,
     "start_time": "2024-09-29T17:02:32.001497",
     "status": "completed"
    },
    "tags": []
   },
   "source": [
    "# Gradient Boosting Model"
   ]
  },
  {
   "cell_type": "code",
   "execution_count": 10,
   "id": "5c7665ad",
   "metadata": {
    "execution": {
     "iopub.execute_input": "2024-09-29T17:02:32.035931Z",
     "iopub.status.busy": "2024-09-29T17:02:32.035446Z",
     "iopub.status.idle": "2024-09-29T17:02:32.041994Z",
     "shell.execute_reply": "2024-09-29T17:02:32.040733Z"
    },
    "papermill": {
     "duration": 0.021911,
     "end_time": "2024-09-29T17:02:32.045322",
     "exception": false,
     "start_time": "2024-09-29T17:02:32.023411",
     "status": "completed"
    },
    "tags": []
   },
   "outputs": [],
   "source": [
    "gb_model = make_pipeline(\n",
    "    preprocessing,\n",
    "    GradientBoostingRegressor(random_state=42)\n",
    ")\n",
    "\n",
    "gb_model.fit(X_train, y_train)\n",
    "y_pred = gb_model.predict(X_test)\n",
    "rmsle = np.sqrt(mean_squared_log_error(y_test, y_pred))"
   ]
  },
  {
   "cell_type": "markdown",
   "id": "4814fc82",
   "metadata": {
    "papermill": {
     "duration": 0.010248,
     "end_time": "2024-09-29T17:02:32.612210",
     "exception": false,
     "start_time": "2024-09-29T17:02:32.601962",
     "status": "completed"
    },
    "tags": []
   },
   "source": [
    "# Model tuning"
   ]
  },
  {
   "cell_type": "code",
   "execution_count": 12,
   "id": "293cc0bc",
   "metadata": {
    "execution": {
     "iopub.execute_input": "2024-09-29T17:02:32.635668Z",
     "iopub.status.busy": "2024-09-29T17:02:32.635165Z",
     "iopub.status.idle": "2024-09-29T17:02:32.643694Z",
     "shell.execute_reply": "2024-09-29T17:02:32.642395Z"
    },
    "papermill": {
     "duration": 0.023621,
     "end_time": "2024-09-29T17:02:32.646497",
     "exception": false,
     "start_time": "2024-09-29T17:02:32.622876",
     "status": "completed"
    },
    "tags": []
   },
   "outputs": [],
   "source": [
    "def rmsle(y_true, y_pred):\n",
    "    y_true = np.exp(y_true)\n",
    "    y_pred = np.exp(y_pred)\n",
    "    return np.sqrt(mean_squared_log_error(y_true, y_pred))\n",
    " \n",
    "gb = gb_model\n",
    "\n",
    "param_dist = {\n",
    "     'gradientboostingregressor__learning_rate': uniform(0,1),\n",
    "     'gradientboostingregressor__n_estimators': randint(10, 1000),\n",
    "     'gradientboostingregressor__min_samples_split': randint(2, 20),\n",
    "     'gradientboostingregressor__min_samples_leaf': randint(2, 20),\n",
    "     'gradientboostingregressor__max_depth': randint(2, 20),\n",
    "     'gradientboostingregressor__max_features': uniform(0,1),\n",
    "     'gradientboostingregressor__max_leaf_nodes': randint(2, 20)\n",
    "}\n",
    "\n",
    "kf = KFold(n_splits=10, shuffle=True, random_state=42)\n",
    "\n",
    "rmsle_scorer = make_scorer(rmsle, greater_is_better=False)\n",
    "\n",
    "random_search = RandomizedSearchCV(\n",
    "     estimator=gb,\n",
    "     param_distributions=param_dist,\n",
    "     n_iter=10,\n",
    "     scoring=rmsle_scorer,\n",
    "     cv=kf,\n",
    "     random_state=42,\n",
    "     verbose=1\n",
    ")\n",
    "\n",
    "random_search.fit(X_train, y_train) \n",
    "\n",
    "\n",
    "print(f\"Best parameters: {random_search.best_params_}\")\n",
    "\n",
    "print(f\"Best RMSLE: {abs(random_search.best_score_)}\")"
   ]
  },
  {
   "cell_type": "code",
   "execution_count": 11,
   "id": "98a9c10b",
   "metadata": {
    "execution": {
     "iopub.execute_input": "2024-09-29T17:02:32.069383Z",
     "iopub.status.busy": "2024-09-29T17:02:32.068142Z",
     "iopub.status.idle": "2024-09-29T17:02:32.587226Z",
     "shell.execute_reply": "2024-09-29T17:02:32.585617Z"
    },
    "papermill": {
     "duration": 0.534384,
     "end_time": "2024-09-29T17:02:32.590607",
     "exception": false,
     "start_time": "2024-09-29T17:02:32.056223",
     "status": "completed"
    },
    "tags": []
   },
   "outputs": [
    {
     "data": {
      "text/plain": [
       "0.05031183689821991"
      ]
     },
     "execution_count": 11,
     "metadata": {},
     "output_type": "execute_result"
    }
   ],
   "source": [
    "gb_model = make_pipeline(\n",
    "    preprocessing,\n",
    "    GradientBoostingRegressor(random_state=42,\n",
    "                             learning_rate=0.01,\n",
    "                             n_estimators=520,\n",
    "                             min_samples_split=20,\n",
    "                             min_samples_leaf=12,\n",
    "                             max_depth=3,\n",
    "                             max_features=0.75,\n",
    "                             max_leaf_nodes=15)\n",
    ")\n",
    "\n",
    "gb_model.fit(X_train, y_train)\n",
    "y_pred = gb_model.predict(X_test)\n",
    "rmsle = np.sqrt(mean_squared_log_error(y_test, y_pred))\n",
    "rmsle"
   ]
  },
  {
   "cell_type": "markdown",
   "id": "917d5fc3",
   "metadata": {
    "papermill": {
     "duration": 0.009771,
     "end_time": "2024-09-29T17:02:32.666657",
     "exception": false,
     "start_time": "2024-09-29T17:02:32.656886",
     "status": "completed"
    },
    "tags": []
   },
   "source": [
    "# Cross_validation"
   ]
  },
  {
   "cell_type": "markdown",
   "id": "883be3b9",
   "metadata": {
    "papermill": {
     "duration": 0.009744,
     "end_time": "2024-09-29T17:02:32.686643",
     "exception": false,
     "start_time": "2024-09-29T17:02:32.676899",
     "status": "completed"
    },
    "tags": []
   },
   "source": [
    "#### random forest"
   ]
  },
  {
   "cell_type": "code",
   "execution_count": 13,
   "id": "ebf47afe",
   "metadata": {
    "execution": {
     "iopub.execute_input": "2024-09-29T17:02:32.709252Z",
     "iopub.status.busy": "2024-09-29T17:02:32.708770Z",
     "iopub.status.idle": "2024-09-29T17:02:32.715153Z",
     "shell.execute_reply": "2024-09-29T17:02:32.713855Z"
    },
    "papermill": {
     "duration": 0.021369,
     "end_time": "2024-09-29T17:02:32.718239",
     "exception": false,
     "start_time": "2024-09-29T17:02:32.696870",
     "status": "completed"
    },
    "tags": []
   },
   "outputs": [],
   "source": [
    "best_model = random_search.best_estimator_\n",
    "rmsle_scores = []\n",
    "\n",
    "for train_index, test_index in kf.split(X_train):\n",
    "    X_train_cv, X_test_cv = X_train.iloc[train_index], X_train.iloc[test_index]\n",
    "    y_train_cv, y_test_cv = y_train.iloc[train_index], y_train.iloc[test_index]\n",
    "\n",
    "    best_model.fit(X_train_cv, y_train_cv)\n",
    "\n",
    "    y_pred_cv = best_model.predict(X_test_cv)\n",
    "\n",
    "\n",
    "    score = rmsle(y_test_cv, y_pred_cv)\n",
    "    rmsle_scores.append(score)\n",
    "\n",
    "mean_rmsle = np.mean(rmsle_scores)\n",
    "print(f\"Mean RMSLE: {mean_rmsle}\")\n",
    "print(f'All RMSLE scores: {rmsle_scores}')"
   ]
  },
  {
   "cell_type": "markdown",
   "id": "4a723cd1",
   "metadata": {
    "papermill": {
     "duration": 0.010178,
     "end_time": "2024-09-29T17:02:32.739217",
     "exception": false,
     "start_time": "2024-09-29T17:02:32.729039",
     "status": "completed"
    },
    "tags": []
   },
   "source": [
    "#### gb randomized search"
   ]
  },
  {
   "cell_type": "code",
   "execution_count": 14,
   "id": "e71dcd08",
   "metadata": {
    "execution": {
     "iopub.execute_input": "2024-09-29T17:02:32.763164Z",
     "iopub.status.busy": "2024-09-29T17:02:32.761882Z",
     "iopub.status.idle": "2024-09-29T17:02:32.768980Z",
     "shell.execute_reply": "2024-09-29T17:02:32.767296Z"
    },
    "papermill": {
     "duration": 0.022463,
     "end_time": "2024-09-29T17:02:32.772101",
     "exception": false,
     "start_time": "2024-09-29T17:02:32.749638",
     "status": "completed"
    },
    "tags": []
   },
   "outputs": [],
   "source": [
    "best_model = random_search.best_estimator_\n",
    "rmsle_scores = []\n",
    "\n",
    "for train_index, test_index in kf.split(X_train):\n",
    "    X_train_cv, X_test_cv = X_train.iloc[train_index], X_train.iloc[test_index]\n",
    "    y_train_cv, y_test_cv = y_train.iloc[train_index], y_train.iloc[test_index]\n",
    "\n",
    "    best_model.fit(X_train_cv, y_train_cv)\n",
    "\n",
    "    y_pred_cv = best_model.predict(X_test_cv)\n",
    "\n",
    "\n",
    "    score = rmsle(y_test_cv, y_pred_cv)\n",
    "    rmsle_scores.append(score)\n",
    "\n",
    "mean_rmsle = np.mean(rmsle_scores)\n",
    "print(f\"Mean RMSLE: {mean_rmsle}\")"
   ]
  },
  {
   "cell_type": "markdown",
   "id": "53d77055",
   "metadata": {
    "papermill": {
     "duration": 0.009968,
     "end_time": "2024-09-29T17:02:32.793057",
     "exception": false,
     "start_time": "2024-09-29T17:02:32.783089",
     "status": "completed"
    },
    "tags": []
   },
   "source": [
    "#### gb self-made"
   ]
  },
  {
   "cell_type": "code",
   "execution_count": 15,
   "id": "a58042ec",
   "metadata": {
    "execution": {
     "iopub.execute_input": "2024-09-29T17:02:32.816916Z",
     "iopub.status.busy": "2024-09-29T17:02:32.816408Z",
     "iopub.status.idle": "2024-09-29T17:02:37.625778Z",
     "shell.execute_reply": "2024-09-29T17:02:37.623982Z"
    },
    "papermill": {
     "duration": 4.825108,
     "end_time": "2024-09-29T17:02:37.628697",
     "exception": false,
     "start_time": "2024-09-29T17:02:32.803589",
     "status": "completed"
    },
    "tags": []
   },
   "outputs": [
    {
     "name": "stdout",
     "output_type": "stream",
     "text": [
      "Средний RMSLE: 0.35963993509831965\n"
     ]
    }
   ],
   "source": [
    "def rmsle(y_true, y_pred):\n",
    "    y_true = np.exp(y_true)\n",
    "    y_pred = np.exp(y_pred)\n",
    "    return np.sqrt(mean_squared_log_error(y_true, y_pred))\n",
    "\n",
    "rmsle_scores = []\n",
    "\n",
    "kf = KFold(n_splits=10, shuffle=True, random_state=42)\n",
    "\n",
    "for train_index, test_index in kf.split(X_train):\n",
    "    X_train_cv, X_test_cv = X_train.iloc[train_index], X_train.iloc[test_index]\n",
    "    y_train_cv, y_test_cv = y_train.iloc[train_index], y_train.iloc[test_index]\n",
    "\n",
    "    gb_model.fit(X_train_cv, y_train_cv)\n",
    "\n",
    "    y_pred_cv = gb_model.predict(X_test_cv)\n",
    "\n",
    "\n",
    "    score = rmsle(y_test_cv, y_pred_cv)\n",
    "    rmsle_scores.append(score)\n",
    "\n",
    "mean_rmsle = np.mean(rmsle_scores)\n",
    "print(f\"Mean RMSLE: {mean_rmsle}\")"
   ]
  },
  {
   "cell_type": "code",
   "execution_count": 16,
   "id": "0e26869d",
   "metadata": {
    "execution": {
     "iopub.execute_input": "2024-09-29T17:02:37.652605Z",
     "iopub.status.busy": "2024-09-29T17:02:37.652056Z",
     "iopub.status.idle": "2024-09-29T17:02:37.660078Z",
     "shell.execute_reply": "2024-09-29T17:02:37.658899Z"
    },
    "papermill": {
     "duration": 0.023578,
     "end_time": "2024-09-29T17:02:37.663095",
     "exception": false,
     "start_time": "2024-09-29T17:02:37.639517",
     "status": "completed"
    },
    "tags": []
   },
   "outputs": [
    {
     "data": {
      "text/plain": [
       "[0.310072690438169,\n",
       " 0.2243792782700289,\n",
       " 0.3465850914316436,\n",
       " 0.41893043764053195,\n",
       " 0.4590556256323482,\n",
       " 0.3055610683705513,\n",
       " 0.2996262287593252,\n",
       " 0.23108607522412639,\n",
       " 0.42854554096742836,\n",
       " 0.5725573142490433]"
      ]
     },
     "execution_count": 16,
     "metadata": {},
     "output_type": "execute_result"
    }
   ],
   "source": [
    "rmsle_scores"
   ]
  },
  {
   "cell_type": "markdown",
   "id": "1bb10860",
   "metadata": {
    "papermill": {
     "duration": 0.011645,
     "end_time": "2024-09-29T17:02:37.689397",
     "exception": false,
     "start_time": "2024-09-29T17:02:37.677752",
     "status": "completed"
    },
    "tags": []
   },
   "source": [
    "## Final learning and prediction"
   ]
  },
  {
   "cell_type": "code",
   "execution_count": 17,
   "id": "cb78574c",
   "metadata": {
    "execution": {
     "iopub.execute_input": "2024-09-29T17:02:37.713312Z",
     "iopub.status.busy": "2024-09-29T17:02:37.712765Z",
     "iopub.status.idle": "2024-09-29T17:02:38.272076Z",
     "shell.execute_reply": "2024-09-29T17:02:38.270827Z"
    },
    "papermill": {
     "duration": 0.574824,
     "end_time": "2024-09-29T17:02:38.275219",
     "exception": false,
     "start_time": "2024-09-29T17:02:37.700395",
     "status": "completed"
    },
    "tags": []
   },
   "outputs": [],
   "source": [
    "test_purified = test.drop('id', axis=1)\n",
    "\n",
    "gb_model.fit(X, y)\n",
    "test_pred = gb_model.predict(test_purified)\n",
    "test_pred_no_log = np.exp(test_pred)"
   ]
  },
  {
   "cell_type": "code",
   "execution_count": 18,
   "id": "4765eac0",
   "metadata": {
    "execution": {
     "iopub.execute_input": "2024-09-29T17:02:38.298690Z",
     "iopub.status.busy": "2024-09-29T17:02:38.298094Z",
     "iopub.status.idle": "2024-09-29T17:02:38.320403Z",
     "shell.execute_reply": "2024-09-29T17:02:38.319185Z"
    },
    "papermill": {
     "duration": 0.037509,
     "end_time": "2024-09-29T17:02:38.323183",
     "exception": false,
     "start_time": "2024-09-29T17:02:38.285674",
     "status": "completed"
    },
    "tags": []
   },
   "outputs": [
    {
     "data": {
      "text/html": [
       "<div>\n",
       "<style scoped>\n",
       "    .dataframe tbody tr th:only-of-type {\n",
       "        vertical-align: middle;\n",
       "    }\n",
       "\n",
       "    .dataframe tbody tr th {\n",
       "        vertical-align: top;\n",
       "    }\n",
       "\n",
       "    .dataframe thead th {\n",
       "        text-align: right;\n",
       "    }\n",
       "</style>\n",
       "<table border=\"1\" class=\"dataframe\">\n",
       "  <thead>\n",
       "    <tr style=\"text-align: right;\">\n",
       "      <th></th>\n",
       "      <th>id</th>\n",
       "      <th>charges</th>\n",
       "    </tr>\n",
       "  </thead>\n",
       "  <tbody>\n",
       "    <tr>\n",
       "      <th>0</th>\n",
       "      <td>770</td>\n",
       "      <td>9168.464972</td>\n",
       "    </tr>\n",
       "    <tr>\n",
       "      <th>1</th>\n",
       "      <td>771</td>\n",
       "      <td>5483.866833</td>\n",
       "    </tr>\n",
       "    <tr>\n",
       "      <th>2</th>\n",
       "      <td>772</td>\n",
       "      <td>26074.005584</td>\n",
       "    </tr>\n",
       "    <tr>\n",
       "      <th>3</th>\n",
       "      <td>773</td>\n",
       "      <td>8772.898673</td>\n",
       "    </tr>\n",
       "    <tr>\n",
       "      <th>4</th>\n",
       "      <td>774</td>\n",
       "      <td>28691.560503</td>\n",
       "    </tr>\n",
       "  </tbody>\n",
       "</table>\n",
       "</div>"
      ],
      "text/plain": [
       "    id       charges\n",
       "0  770   9168.464972\n",
       "1  771   5483.866833\n",
       "2  772  26074.005584\n",
       "3  773   8772.898673\n",
       "4  774  28691.560503"
      ]
     },
     "execution_count": 18,
     "metadata": {},
     "output_type": "execute_result"
    }
   ],
   "source": [
    "submission = pd.DataFrame()\n",
    "submission[\"id\"] = test.id\n",
    "submission[\"charges\"] = test_pred_no_log\n",
    "submission.head()"
   ]
  },
  {
   "cell_type": "code",
   "execution_count": 19,
   "id": "f4b5e50b",
   "metadata": {
    "execution": {
     "iopub.execute_input": "2024-09-29T17:02:38.346881Z",
     "iopub.status.busy": "2024-09-29T17:02:38.346355Z",
     "iopub.status.idle": "2024-09-29T17:02:38.359542Z",
     "shell.execute_reply": "2024-09-29T17:02:38.357900Z"
    },
    "papermill": {
     "duration": 0.029044,
     "end_time": "2024-09-29T17:02:38.362954",
     "exception": false,
     "start_time": "2024-09-29T17:02:38.333910",
     "status": "completed"
    },
    "tags": []
   },
   "outputs": [],
   "source": [
    "submission.to_csv(\"submission_baseline.csv\", index=False)"
   ]
  }
 ],
 "metadata": {
  "kaggle": {
   "accelerator": "none",
   "dataSources": [
    {
     "databundleVersionId": 9665442,
     "sourceId": 85525,
     "sourceType": "competition"
    }
   ],
   "dockerImageVersionId": 30775,
   "isGpuEnabled": false,
   "isInternetEnabled": true,
   "language": "python",
   "sourceType": "notebook"
  },
  "kernelspec": {
   "display_name": "Python 3",
   "language": "python",
   "name": "python3"
  },
  "language_info": {
   "codemirror_mode": {
    "name": "ipython",
    "version": 3
   },
   "file_extension": ".py",
   "mimetype": "text/x-python",
   "name": "python",
   "nbconvert_exporter": "python",
   "pygments_lexer": "ipython3",
   "version": "3.10.14"
  },
  "papermill": {
   "default_parameters": {},
   "duration": 14.280554,
   "end_time": "2024-09-29T17:02:39.100150",
   "environment_variables": {},
   "exception": null,
   "input_path": "__notebook__.ipynb",
   "output_path": "__notebook__.ipynb",
   "parameters": {},
   "start_time": "2024-09-29T17:02:24.819596",
   "version": "2.6.0"
  }
 },
 "nbformat": 4,
 "nbformat_minor": 5
}
